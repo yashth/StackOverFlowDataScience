{
 "cells": [
  {
   "cell_type": "markdown",
   "metadata": {},
   "source": [
    "\n",
    "<h1 id='part1'>Data Science Blogpost :  Developer's Insight</h1>\n",
    "\n",
    "In this project we will explore three facts about the Developers from all over the world\n",
    "\n",
    "1. Which type of Developers are highest in numbers?\n",
    "2. Which type of Developers \"code as hobby\" or \"contribute to open source\"?\n",
    "3. Which type of Developers use which type of IDEs the most?"
   ]
  },
  {
   "cell_type": "code",
   "execution_count": null,
   "metadata": {},
   "outputs": [],
   "source": [
    "# Import libraries\n",
    "import numpy as np\n",
    "import pandas as pd\n",
    "import matplotlib.pyplot as plt\n",
    "import TotalCount as t\n",
    "%matplotlib inline\n",
    "\n",
    "# Read Data into DataFrame\n",
    "df = pd.read_csv('./survey_results_public.csv')\n",
    "schema = pd.read_csv('./survey_results_schema.csv')\n",
    "df.head()"
   ]
  },
  {
   "cell_type": "code",
   "execution_count": null,
   "metadata": {},
   "outputs": [],
   "source": [
    "# Shows the description of the questions\n",
    "def get_description(column_name, schema=schema):\n",
    "    \"\"\"\n",
    "    INPUT - schema - pandas dataframe with the schema of the developers survey\n",
    "            column_name - string - name of the column you would like to know about\n",
    "            \n",
    "    OUTPUT - desc - string - description of the coulmn\n",
    "    \"\"\"\n",
    "    \n",
    "    desc = list(schema[schema['Column']==column_name]['Question'])[0]\n",
    "    return desc"
   ]
  },
  {
   "cell_type": "code",
   "execution_count": null,
   "metadata": {},
   "outputs": [],
   "source": [
    "get_description(\"DeveloperType\")"
   ]
  },
  {
   "cell_type": "markdown",
   "metadata": {},
   "source": [
    "<h2>Part I: Which type of Developers are highest in numbers?</h2>"
   ]
  },
  {
   "cell_type": "code",
   "execution_count": null,
   "metadata": {},
   "outputs": [],
   "source": [
    "# List of all the developers\n",
    "possible_vals = ['Web developer','Desktop applications developer','Mobile developer','DevOps specialist',\n",
    "                 'Embeded applications/devices developer', 'Database administrator','Developer with a statistics or mathematics background',\n",
    "                 'Systems administrator','Data scientist','Graphic designer','Quality assurance engineer','Machine learning specialist',\n",
    "                 'Graphics programming']"
   ]
  },
  {
   "cell_type": "code",
   "execution_count": null,
   "metadata": {},
   "outputs": [],
   "source": [
    "# Function to count the coulmns and plot graph\n",
    "def count_plot(df,title='Types of Developer',plot=True):\n",
    "    \"\"\"\n",
    "    INPUT - df - Dataframe holding DeveloperType\n",
    "          - title - string - Title of the plot\n",
    "          - plot - bool providing whether or not you want to plot back\n",
    "    OUTPUT - dev_df - a dataframe of count of types of developers\n",
    "           Displays a plot of pretty things related to the DeveloperType column.\n",
    "    \"\"\"\n",
    "    dev_df = df['DeveloperType'].value_counts().reset_index()\n",
    "    dev_df.rename(columns={'index':'method','DeveloperType':'count'},inplace=True)\n",
    "    dev_df = t.total_count(dev_df,'method','count',possible_vals)\n",
    "    \n",
    "    dev_df.set_index('method',inplace=True)\n",
    "    \n",
    "    if plot:\n",
    "        (dev_df/dev_df.sum()).plot(kind='bar',legend=None);\n",
    "        plt.title(title);\n",
    "        plt.show();\n",
    "    props_dev_df = dev_df/dev_df.sum()\n",
    "    return props_dev_df\n",
    "\n",
    "\n",
    "    "
   ]
  },
  {
   "cell_type": "code",
   "execution_count": null,
   "metadata": {},
   "outputs": [],
   "source": [
    "# Get graph for Part I\n",
    "props_df = count_plot(df)"
   ]
  },
  {
   "cell_type": "markdown",
   "metadata": {},
   "source": [
    "<h2>Part II: Which type of Developers \"code as hobby\" or \"contribute to open source\"?</h2>"
   ]
  },
  {
   "cell_type": "code",
   "execution_count": null,
   "metadata": {},
   "outputs": [],
   "source": [
    "# Function to count the hobby types\n",
    "def program_hobby(hobby_str):\n",
    "    '''\n",
    "    INPUT\n",
    "        hobby_str - a string of one of the values from the ProgramHobby column\n",
    "    \n",
    "    OUTPUT\n",
    "        return 1 if the string is in (\"Yes, both\",\"Yes, I program as a hobby\",\"Yes, I contribute to open source projects\")\n",
    "        return 0 otherwise\n",
    "    \n",
    "    '''\n",
    "    if hobby_str in (\"Yes, both\",\"Yes, I program as a hobby\",\"Yes, I contribute to open source projects\"):\n",
    "        return 1\n",
    "    else:\n",
    "        return 0\n",
    "\n",
    "df[\"ProgramHobby\"].apply(program_hobby)[:8] #Test your function to assure it provides 1 and 0 values for the df"
   ]
  },
  {
   "cell_type": "code",
   "execution_count": null,
   "metadata": {},
   "outputs": [],
   "source": [
    "# Call program_hobby() function\n",
    "df[\"HobbyOrNot\"] = df[\"ProgramHobby\"].apply(program_hobby)"
   ]
  },
  {
   "cell_type": "code",
   "execution_count": null,
   "metadata": {},
   "outputs": [],
   "source": [
    "pro_1 = df[df[\"HobbyOrNot\"]==1] # Developers who program as hobby and contribute to open source projects or both\n",
    "pro_0 = df[df[\"HobbyOrNot\"]==0] #  Developers who do not do both"
   ]
  },
  {
   "cell_type": "code",
   "execution_count": null,
   "metadata": {},
   "outputs": [],
   "source": [
    "pro_1_perc = count_plot(pro_1, 'Who program as hobby and contribute to open source projects', plot=False)\n",
    "pro_0_perc = count_plot(pro_0, 'Who do not do both', plot=False)"
   ]
  },
  {
   "cell_type": "code",
   "execution_count": null,
   "metadata": {},
   "outputs": [],
   "source": [
    "# Final Graph\n",
    "comp_df = pd.merge(pro_1_perc,pro_0_perc,left_index=True,right_index=True)\n",
    "comp_df.columns = ['pro_1_perc', 'pro_0_perc']\n",
    "comp_df['Diff_Pro_Vals'] = comp_df['pro_1_perc'] - comp_df['pro_0_perc']\n",
    "comp_df.style.bar(subset=['Diff_Pro_Vals'], align='mid', color=['#d65f5f', '#5fba7d'])"
   ]
  },
  {
   "cell_type": "markdown",
   "metadata": {},
   "source": [
    "<h2>Part III: Which type of Developers use which type of IDEs the most?</h2>"
   ]
  },
  {
   "cell_type": "code",
   "execution_count": null,
   "metadata": {},
   "outputs": [],
   "source": [
    "# List of IDEs\n",
    "possible_ide = ['Atom','Notepad++', 'Vim','PyCharm','RubyMine','Visual Studio',' Sublime Text','PHPStorm','Android Studio','IntelliJ',\n",
    "               'NetBeans','Eclipse','IPython / Jupyter',' Xcode']"
   ]
  },
  {
   "cell_type": "code",
   "execution_count": null,
   "metadata": {},
   "outputs": [],
   "source": [
    "# Count the group IDE and DeveloperType\n",
    "IDE_dev = df.groupby(['IDE','DeveloperType']).size().reset_index(name='count')"
   ]
  },
  {
   "cell_type": "code",
   "execution_count": null,
   "metadata": {},
   "outputs": [],
   "source": [
    "# Sort by descending order\n",
    "IDE_dev = IDE_dev.sort_values(\"count\",ascending=False)"
   ]
  },
  {
   "cell_type": "code",
   "execution_count": null,
   "metadata": {},
   "outputs": [],
   "source": [
    "# Count and Plot the usade of IDE by different Developers\n",
    "def count_plot_ide(df,title,plot,developertype):\n",
    "    \"\"\"\n",
    "    INPUT - df - Dataframe holding IDE\n",
    "          - title - string - Title of the plot\n",
    "          - plot - bool providing whether or not you want to plot back\n",
    "          - developertype - string - Developer Type\n",
    "    OUTPUT - ide_df - a dataframe of count of types of IDE usage by each developers\n",
    "           Displays a plot of pretty things related to the IDE usage.\n",
    "    \"\"\"\n",
    "    print(developertype)\n",
    "    dev_df = df.loc[(df['DeveloperType'].str.contains(developertype)) & (df['count']>2)]\n",
    "    if dev_df.empty:\n",
    "        plot = False\n",
    "    ide_df = dev_df['IDE'].value_counts().reset_index()\n",
    "    ide_df.rename(columns={'index':'method','IDE':'count'},inplace=True)\n",
    "    ide_df = t.total_count(ide_df,'method','count',possible_ide)\n",
    "    ide_df.set_index('method',inplace=True)\n",
    "   \n",
    "    if plot:\n",
    "        (ide_df/ide_df.sum()).plot(kind='bar',legend=None, stacked=True);\n",
    "        plt.title(title);\n",
    "        plt.show();\n",
    "    props_ide_df = ide_df/ide_df.sum()\n",
    "    return props_ide_df\n",
    "\n",
    "for val in possible_vals:\n",
    "    props_df = count_plot_ide(IDE_dev,'Top IDEs used by '+val,True,val)\n",
    "    "
   ]
  },
  {
   "cell_type": "code",
   "execution_count": null,
   "metadata": {},
   "outputs": [],
   "source": []
  }
 ],
 "metadata": {
  "kernelspec": {
   "display_name": "Python 3",
   "language": "python",
   "name": "python3"
  },
  "language_info": {
   "codemirror_mode": {
    "name": "ipython",
    "version": 3
   },
   "file_extension": ".py",
   "mimetype": "text/x-python",
   "name": "python",
   "nbconvert_exporter": "python",
   "pygments_lexer": "ipython3",
   "version": "3.6.3"
  }
 },
 "nbformat": 4,
 "nbformat_minor": 2
}
